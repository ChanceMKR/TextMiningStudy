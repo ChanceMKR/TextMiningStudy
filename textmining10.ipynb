{
 "cells": [
  {
   "attachments": {},
   "cell_type": "markdown",
   "metadata": {},
   "source": [
    "## RNN\n",
    "시계열 데이터를 다루기 위한 모형\n",
    "\n",
    "일정한 시간 간격으로 특정한 규칙성이나 패턴이 있는 경우"
   ]
  },
  {
   "cell_type": "code",
   "execution_count": 11,
   "metadata": {},
   "outputs": [
    {
     "name": "stdout",
     "output_type": "stream",
     "text": [
      "showing info https://raw.githubusercontent.com/nltk/nltk_data/gh-pages/index.xml\n"
     ]
    },
    {
     "data": {
      "text/plain": [
       "True"
      ]
     },
     "execution_count": 11,
     "metadata": {},
     "output_type": "execute_result"
    }
   ],
   "source": [
    "import nltk\n",
    "nltk.download()"
   ]
  },
  {
   "cell_type": "code",
   "execution_count": 12,
   "metadata": {},
   "outputs": [],
   "source": [
    "from nltk.corpus import movie_reviews"
   ]
  },
  {
   "attachments": {},
   "cell_type": "markdown",
   "metadata": {},
   "source": [
    "분석의 첫 단계로 NLTK 데이터를 불러와\n",
    "아래와 같이 리뷰는 reviews에, 긍정 부정에 대한 라벨은 categories에 저장한다."
   ]
  },
  {
   "cell_type": "code",
   "execution_count": 16,
   "metadata": {},
   "outputs": [
    {
     "data": {
      "text/plain": [
       "['neg/cv000_29416.txt',\n",
       " 'neg/cv001_19502.txt',\n",
       " 'neg/cv002_17424.txt',\n",
       " 'neg/cv003_12683.txt',\n",
       " 'neg/cv004_12641.txt']"
      ]
     },
     "execution_count": 16,
     "metadata": {},
     "output_type": "execute_result"
    }
   ],
   "source": [
    "fileids = movie_reviews.fileids() # 영화 리뷰 데이터에서 파일 id를 가져옴\n",
    "fileids[:5]"
   ]
  },
  {
   "cell_type": "code",
   "execution_count": 19,
   "metadata": {},
   "outputs": [
    {
     "data": {
      "text/plain": [
       "'plot : two teen couples go to a church party , drink and then drive . \\nthey get into an accident . \\none of the guys dies , but his girlfriend continues to see him in her life , and has nightmares . \\nwhat\\'s the deal ? \\nwatch the movie and \" sorta \" find out . . . \\ncritique : a mind-fuck movie for the teen generation that touches on a very cool idea , but presents it in a very bad package . \\nwhich is what makes this review an even harder one to write , since i generally applaud films which attempt to break the mold , mess with your head and such ( lost highway & memento ) , but there are good and bad ways of making all types of films , and these folks just didn\\'t snag this one correctly . \\nthey seem to have taken this pretty neat concept , but executed it terribly . \\nso what are the problems with the movie ? \\nwell , its main problem is that it\\'s simply too jumbled . \\nit starts off \" normal \" but then downshifts into this \" fantasy \" world in which you , as an audience member , have no idea what\\'s going on . \\nthere are dreams , there are characters coming back from the dead , there are others who look like the dead , there are strange apparitions , there are disappearances , there are a looooot of chase scenes , there are tons of weird things that happen , and most of it is simply not explained . \\nnow i personally don\\'t mind trying to unravel a film every now and then , but when all it does is give me the same clue over and over again , i get kind of fed up after a while , which is this film\\'s biggest problem . \\nit\\'s obviously got this big secret to hide , but it seems to want to hide it completely until its final five minutes . \\nand do they make things entertaining , thrilling or even engaging , in the meantime ? \\nnot really . \\nthe sad part is that the arrow and i both dig on flicks like this , so we actually figured most of it out by the half-way point , so all of the strangeness after that did start to make a little bit of sense , but it still didn\\'t the make the film all that more entertaining . \\ni guess the bottom line with movies like this is that you should always make sure that the audience is \" into it \" even before they are given the secret password to enter your world of understanding . \\ni mean , showing melissa sagemiller running away from visions for about 20 minutes throughout the movie is just plain lazy ! ! \\nokay , we get it . . . there \\nare people chasing her and we don\\'t know who they are . \\ndo we really need to see it over and over again ? \\nhow about giving us different scenes offering further insight into all of the strangeness going down in the movie ? \\napparently , the studio took this film away from its director and chopped it up themselves , and it shows . \\nthere might\\'ve been a pretty decent teen mind-fuck movie in here somewhere , but i guess \" the suits \" decided that turning it into a music video with little edge , would make more sense . \\nthe actors are pretty good for the most part , although wes bentley just seemed to be playing the exact same character that he did in american beauty , only in a new neighborhood . \\nbut my biggest kudos go out to sagemiller , who holds her own throughout the entire film , and actually has you feeling her character\\'s unraveling . \\noverall , the film doesn\\'t stick because it doesn\\'t entertain , it\\'s confusing , it rarely excites and it feels pretty redundant for most of its runtime , despite a pretty cool ending and explanation to all of the craziness that came before it . \\noh , and by the way , this is not a horror or teen slasher flick . . . it\\'s \\njust packaged to look that way because someone is apparently assuming that the genre is still hot with the kids . \\nit also wrapped production two years ago and has been sitting on the shelves ever since . \\nwhatever . . . skip \\nit ! \\nwhere\\'s joblo coming from ? \\na nightmare of elm street 3 ( 7/10 ) - blair witch 2 ( 7/10 ) - the crow ( 9/10 ) - the crow : salvation ( 4/10 ) - lost highway ( 10/10 ) - memento ( 10/10 ) - the others ( 9/10 ) - stir of echoes ( 8/10 ) \\n'"
      ]
     },
     "execution_count": 19,
     "metadata": {},
     "output_type": "execute_result"
    }
   ],
   "source": [
    "# 파일 id를 이용해 raw 텍스트 파일을 가져옴\n",
    "reviews = [movie_reviews.raw(fileid) for fileid in fileids]\n",
    "reviews[0]"
   ]
  },
  {
   "cell_type": "code",
   "execution_count": 20,
   "metadata": {},
   "outputs": [
    {
     "data": {
      "text/plain": [
       "['neg', 'neg', 'neg', 'neg', 'neg']"
      ]
     },
     "execution_count": 20,
     "metadata": {},
     "output_type": "execute_result"
    }
   ],
   "source": [
    "# 파일 id를 이용해 라벨로 사용할 카테고리, 즉 긍정/부정 정보를 순서대로 가져옴\n",
    "categories = [movie_reviews.categories(fileid)[0] for fileid in fileids]\n",
    "categories[:5]"
   ]
  },
  {
   "cell_type": "code",
   "execution_count": 21,
   "metadata": {},
   "outputs": [
    {
     "name": "stdout",
     "output_type": "stream",
     "text": [
      "Reviews count: 2000\n",
      "Length of the first review: 4043\n",
      "Labels: {'pos', 'neg'}\n"
     ]
    }
   ],
   "source": [
    "print('Reviews count:', len(reviews))\n",
    "print('Length of the first review:', len(reviews[0]))\n",
    "print(\"Labels:\", set(categories))"
   ]
  },
  {
   "cell_type": "code",
   "execution_count": 26,
   "metadata": {},
   "outputs": [
    {
     "data": {
      "text/plain": [
       "[97,\n",
       " 76,\n",
       " 948,\n",
       " 130,\n",
       " 5,\n",
       " 2,\n",
       " 788,\n",
       " 3,\n",
       " 102,\n",
       " 36,\n",
       " 72,\n",
       " 55,\n",
       " 24,\n",
       " 23,\n",
       " 4,\n",
       " 1,\n",
       " 518,\n",
       " 16,\n",
       " 13,\n",
       " 677,\n",
       " 5,\n",
       " 83,\n",
       " 54,\n",
       " 7,\n",
       " 33,\n",
       " 89,\n",
       " 3,\n",
       " 32,\n",
       " 603,\n",
       " 1,\n",
       " 637,\n",
       " 241,\n",
       " 1,\n",
       " 26,\n",
       " 3,\n",
       " 189,\n",
       " 40,\n",
       " 2,\n",
       " 301,\n",
       " 26,\n",
       " 12,\n",
       " 1,\n",
       " 948,\n",
       " 8,\n",
       " 19,\n",
       " 2,\n",
       " 79,\n",
       " 690,\n",
       " 361,\n",
       " 16,\n",
       " 9,\n",
       " 7,\n",
       " 2,\n",
       " 79,\n",
       " 105,\n",
       " 45,\n",
       " 6,\n",
       " 48,\n",
       " 142,\n",
       " 14,\n",
       " 465,\n",
       " 24,\n",
       " 56,\n",
       " 23,\n",
       " 5,\n",
       " 194,\n",
       " 18,\n",
       " 95,\n",
       " 45,\n",
       " 526,\n",
       " 5,\n",
       " 830,\n",
       " 1,\n",
       " 902,\n",
       " 11,\n",
       " 169,\n",
       " 362,\n",
       " 3,\n",
       " 117,\n",
       " 341,\n",
       " 16,\n",
       " 52,\n",
       " 20,\n",
       " 61,\n",
       " 3,\n",
       " 105,\n",
       " 752,\n",
       " 4,\n",
       " 242,\n",
       " 35,\n",
       " 4,\n",
       " 95,\n",
       " 3,\n",
       " 112,\n",
       " 50,\n",
       " 248,\n",
       " 14,\n",
       " 23,\n",
       " 36,\n",
       " 249,\n",
       " 5,\n",
       " 31,\n",
       " 624,\n",
       " 14,\n",
       " 271,\n",
       " 16,\n",
       " 9,\n",
       " 39,\n",
       " 48,\n",
       " 20,\n",
       " 1,\n",
       " 469,\n",
       " 11,\n",
       " 1,\n",
       " 26,\n",
       " 77,\n",
       " 64,\n",
       " 348,\n",
       " 353,\n",
       " 6,\n",
       " 8,\n",
       " 37,\n",
       " 321,\n",
       " 88,\n",
       " 9,\n",
       " 436,\n",
       " 87,\n",
       " 16,\n",
       " 102,\n",
       " 55,\n",
       " 14,\n",
       " 145,\n",
       " 7,\n",
       " 45,\n",
       " 34,\n",
       " 10,\n",
       " 24,\n",
       " 161,\n",
       " 31,\n",
       " 59,\n",
       " 361,\n",
       " 603,\n",
       " 159,\n",
       " 19,\n",
       " 52,\n",
       " 20,\n",
       " 52,\n",
       " 20,\n",
       " 81,\n",
       " 504,\n",
       " 135,\n",
       " 28,\n",
       " 1,\n",
       " 328,\n",
       " 52,\n",
       " 20,\n",
       " 485,\n",
       " 27,\n",
       " 177,\n",
       " 38,\n",
       " 1,\n",
       " 328,\n",
       " 52,\n",
       " 20,\n",
       " 769,\n",
       " 52,\n",
       " 20,\n",
       " 52,\n",
       " 20,\n",
       " 2,\n",
       " 4,\n",
       " 910,\n",
       " 114,\n",
       " 52,\n",
       " 20,\n",
       " 4,\n",
       " 171,\n",
       " 8,\n",
       " 632,\n",
       " 3,\n",
       " 63,\n",
       " 4,\n",
       " 9,\n",
       " 6,\n",
       " 321,\n",
       " 25,\n",
       " 143,\n",
       " 18,\n",
       " 120,\n",
       " 301,\n",
       " 254,\n",
       " 5,\n",
       " 2,\n",
       " 15,\n",
       " 150,\n",
       " 143,\n",
       " 3,\n",
       " 102,\n",
       " 16,\n",
       " 44,\n",
       " 35,\n",
       " 9,\n",
       " 91,\n",
       " 6,\n",
       " 256,\n",
       " 103,\n",
       " 1,\n",
       " 164,\n",
       " 100,\n",
       " 3,\n",
       " 100,\n",
       " 208,\n",
       " 18,\n",
       " 72,\n",
       " 259,\n",
       " 4,\n",
       " 42,\n",
       " 82,\n",
       " 2,\n",
       " 94,\n",
       " 45,\n",
       " 6,\n",
       " 14,\n",
       " 247,\n",
       " 954,\n",
       " 353,\n",
       " 37,\n",
       " 613,\n",
       " 294,\n",
       " 14,\n",
       " 133,\n",
       " 801,\n",
       " 5,\n",
       " 16,\n",
       " 9,\n",
       " 138,\n",
       " 5,\n",
       " 257,\n",
       " 5,\n",
       " 9,\n",
       " 308,\n",
       " 313,\n",
       " 64,\n",
       " 369,\n",
       " 493,\n",
       " 226,\n",
       " 3,\n",
       " 75,\n",
       " 36,\n",
       " 86,\n",
       " 171,\n",
       " 439,\n",
       " 46,\n",
       " 56,\n",
       " 7,\n",
       " 1,\n",
       " 25,\n",
       " 92,\n",
       " 1,\n",
       " 204,\n",
       " 6,\n",
       " 8,\n",
       " 1,\n",
       " 3,\n",
       " 18,\n",
       " 158,\n",
       " 19,\n",
       " 38,\n",
       " 14,\n",
       " 39,\n",
       " 62,\n",
       " 175,\n",
       " 63,\n",
       " 4,\n",
       " 9,\n",
       " 40,\n",
       " 21,\n",
       " 1,\n",
       " 268,\n",
       " 84,\n",
       " 212,\n",
       " 39,\n",
       " 35,\n",
       " 4,\n",
       " 1,\n",
       " 82,\n",
       " 8,\n",
       " 197,\n",
       " 442,\n",
       " 5,\n",
       " 86,\n",
       " 2,\n",
       " 98,\n",
       " 251,\n",
       " 4,\n",
       " 261,\n",
       " 16,\n",
       " 9,\n",
       " 137,\n",
       " 248,\n",
       " 1,\n",
       " 86,\n",
       " 1,\n",
       " 15,\n",
       " 35,\n",
       " 8,\n",
       " 43,\n",
       " 439,\n",
       " 18,\n",
       " 618,\n",
       " 1,\n",
       " 311,\n",
       " 11,\n",
       " 121,\n",
       " 38,\n",
       " 14,\n",
       " 6,\n",
       " 8,\n",
       " 34,\n",
       " 167,\n",
       " 245,\n",
       " 86,\n",
       " 276,\n",
       " 8,\n",
       " 1,\n",
       " 161,\n",
       " 6,\n",
       " 55,\n",
       " 9,\n",
       " 56,\n",
       " 141,\n",
       " 36,\n",
       " 20,\n",
       " 284,\n",
       " 1,\n",
       " 801,\n",
       " 5,\n",
       " 169,\n",
       " 145,\n",
       " 4,\n",
       " 18,\n",
       " 570,\n",
       " 963,\n",
       " 426,\n",
       " 221,\n",
       " 28,\n",
       " 12,\n",
       " 41,\n",
       " 226,\n",
       " 457,\n",
       " 1,\n",
       " 26,\n",
       " 6,\n",
       " 50,\n",
       " 62,\n",
       " 72,\n",
       " 9,\n",
       " 52,\n",
       " 20,\n",
       " 101,\n",
       " 33,\n",
       " 3,\n",
       " 62,\n",
       " 120,\n",
       " 118,\n",
       " 27,\n",
       " 36,\n",
       " 20,\n",
       " 75,\n",
       " 62,\n",
       " 92,\n",
       " 437,\n",
       " 5,\n",
       " 83,\n",
       " 9,\n",
       " 100,\n",
       " 3,\n",
       " 100,\n",
       " 208,\n",
       " 96,\n",
       " 41,\n",
       " 665,\n",
       " 132,\n",
       " 316,\n",
       " 114,\n",
       " 55,\n",
       " 35,\n",
       " 4,\n",
       " 1,\n",
       " 159,\n",
       " 149,\n",
       " 7,\n",
       " 1,\n",
       " 26,\n",
       " 682,\n",
       " 1,\n",
       " 929,\n",
       " 874,\n",
       " 14,\n",
       " 15,\n",
       " 221,\n",
       " 28,\n",
       " 64,\n",
       " 123,\n",
       " 3,\n",
       " 9,\n",
       " 42,\n",
       " 491,\n",
       " 3,\n",
       " 9,\n",
       " 336,\n",
       " 52,\n",
       " 69,\n",
       " 2,\n",
       " 271,\n",
       " 875,\n",
       " 948,\n",
       " 301,\n",
       " 26,\n",
       " 7,\n",
       " 128,\n",
       " 16,\n",
       " 18,\n",
       " 618,\n",
       " 1,\n",
       " 8,\n",
       " 9,\n",
       " 55,\n",
       " 2,\n",
       " 289,\n",
       " 431,\n",
       " 11,\n",
       " 98,\n",
       " 68,\n",
       " 86,\n",
       " 43,\n",
       " 261,\n",
       " 1,\n",
       " 209,\n",
       " 20,\n",
       " 271,\n",
       " 61,\n",
       " 12,\n",
       " 1,\n",
       " 63,\n",
       " 204,\n",
       " 187,\n",
       " 50,\n",
       " 675,\n",
       " 5,\n",
       " 22,\n",
       " 388,\n",
       " 1,\n",
       " 164,\n",
       " 74,\n",
       " 8,\n",
       " 17,\n",
       " 197,\n",
       " 7,\n",
       " 258,\n",
       " 57,\n",
       " 7,\n",
       " 2,\n",
       " 113,\n",
       " 16,\n",
       " 106,\n",
       " 954,\n",
       " 130,\n",
       " 40,\n",
       " 5,\n",
       " 27,\n",
       " 33,\n",
       " 181,\n",
       " 457,\n",
       " 1,\n",
       " 339,\n",
       " 15,\n",
       " 3,\n",
       " 175,\n",
       " 32,\n",
       " 34,\n",
       " 621,\n",
       " 33,\n",
       " 898,\n",
       " 1,\n",
       " 15,\n",
       " 116,\n",
       " 85,\n",
       " 9,\n",
       " 116,\n",
       " 37,\n",
       " 9,\n",
       " 3,\n",
       " 9,\n",
       " 648,\n",
       " 271,\n",
       " 12,\n",
       " 63,\n",
       " 4,\n",
       " 64,\n",
       " 400,\n",
       " 2,\n",
       " 271,\n",
       " 690,\n",
       " 324,\n",
       " 3,\n",
       " 5,\n",
       " 35,\n",
       " 4,\n",
       " 1,\n",
       " 8,\n",
       " 770,\n",
       " 141,\n",
       " 9,\n",
       " 657,\n",
       " 3,\n",
       " 21,\n",
       " 1,\n",
       " 84,\n",
       " 14,\n",
       " 6,\n",
       " 25,\n",
       " 2,\n",
       " 295,\n",
       " 46,\n",
       " 948,\n",
       " 731,\n",
       " 37,\n",
       " 50,\n",
       " 5,\n",
       " 177,\n",
       " 8,\n",
       " 84,\n",
       " 85,\n",
       " 371,\n",
       " 6,\n",
       " 682,\n",
       " 8,\n",
       " 1,\n",
       " 521,\n",
       " 6,\n",
       " 137,\n",
       " 11,\n",
       " 1,\n",
       " 440,\n",
       " 9,\n",
       " 71,\n",
       " 460,\n",
       " 76,\n",
       " 174,\n",
       " 714,\n",
       " 3,\n",
       " 32,\n",
       " 69,\n",
       " 19,\n",
       " 1,\n",
       " 193,\n",
       " 194,\n",
       " 9,\n",
       " 504,\n",
       " 28,\n",
       " 2,\n",
       " 4,\n",
       " 640,\n",
       " 302,\n",
       " 314,\n",
       " 302,\n",
       " 1,\n",
       " 302,\n",
       " 1,\n",
       " 749,\n",
       " 302,\n",
       " 341,\n",
       " 302,\n",
       " 302,\n",
       " 302,\n",
       " 302,\n",
       " 1,\n",
       " 485,\n",
       " 302,\n",
       " 4,\n",
       " 302]"
      ]
     },
     "execution_count": 26,
     "metadata": {},
     "output_type": "execute_result"
    }
   ],
   "source": [
    "import numpy as np\n",
    "import tensorflow as tf\n",
    "from tensorflow.keras.preprocessing.text import Tokenizer\n",
    "np.random.seed(7)\n",
    "tf.random.set_seed(7)\n",
    "\n",
    "max_words = 1000 # 사용한 단어 수\n",
    "\n",
    "# 빈도가 높은 1000개의 단어를 선택하도록 객체 생성\n",
    "tokenizer = Tokenizer(num_words=max_words)\n",
    "\n",
    "tokenizer.fit_on_texts(reviews) # 단어 인덱스 구축\n",
    "\n",
    "# 만들어진 단어 인덱스를 이용해 문서들을 변환\n",
    "X = tokenizer.texts_to_sequences(reviews)\n",
    "X[0]"
   ]
  },
  {
   "cell_type": "code",
   "execution_count": 27,
   "metadata": {},
   "outputs": [
    {
     "name": "stdout",
     "output_type": "stream",
     "text": [
      "Lengths of first 10 documents: [582, 182, 381, 308, 520, 494, 384, 401, 409, 596]\n"
     ]
    }
   ],
   "source": [
    "print('Lengths of first 10 documents:', [len(doc) for doc in X[:10]])"
   ]
  },
  {
   "attachments": {},
   "cell_type": "markdown",
   "metadata": {},
   "source": [
    "### 결과\n",
    "모든 단어들을 원핫 인코딩으로 벡터 형태로 치환 -> 벡터의 크기는 내가 가진 사전에 등록된 단어의 수이다.\n",
    "\n",
    "각 단어들이 숫자 형태로 바뀌어 있는 것을 확인할 수 있다."
   ]
  },
  {
   "cell_type": "code",
   "execution_count": 28,
   "metadata": {},
   "outputs": [
    {
     "data": {
      "text/plain": [
       "1"
      ]
     },
     "execution_count": 28,
     "metadata": {},
     "output_type": "execute_result"
    }
   ],
   "source": [
    "# 사전 단어에 대한 인덱스를 확인하는 법\n",
    "tokenizer.word_index[\"the\"]"
   ]
  },
  {
   "cell_type": "code",
   "execution_count": 31,
   "metadata": {},
   "outputs": [],
   "source": [
    "from tensorflow.keras.preprocessing.sequence import pad_sequences\n",
    "\n",
    "maxlen = 500 # 문서의 단어 수를 제한\n",
    "\n",
    "# 문서의 단어 수가 500보다 작으면 0을 채우고, 크면 잘라냄\n",
    "# 잘라낼 때, 앞을 자를 지, 뒤를 자를 지 선택할 수 있음.\n",
    "# 앞을 자르고 뒷부분을 쓰고자 하면 'pre' 선택\n",
    "X = pad_sequences(X, maxlen=maxlen, truncating='pre')"
   ]
  },
  {
   "cell_type": "code",
   "execution_count": 38,
   "metadata": {},
   "outputs": [
    {
     "data": {
      "text/plain": [
       "array([0, 0, 0, 0, 0])"
      ]
     },
     "execution_count": 38,
     "metadata": {},
     "output_type": "execute_result"
    }
   ],
   "source": [
    "import numpy as np\n",
    "\n",
    "# label을 0, 1의 값으로 변환\n",
    "\n",
    "label_dict={'pos':1, 'neg':0}\n",
    "y = np.array([label_dict[c] for c in categories])\n",
    "y[:5]"
   ]
  },
  {
   "cell_type": "code",
   "execution_count": 39,
   "metadata": {},
   "outputs": [
    {
     "name": "stdout",
     "output_type": "stream",
     "text": [
      "Train set count: 1600\n",
      "Test set count: 400\n",
      "Test samples: [0 1 1 0 1 1 0 0 0 0 1 1 0 0 1 0 0 1 1 1]\n"
     ]
    }
   ],
   "source": [
    "from sklearn.model_selection import train_test_split\n",
    "X_train, X_test, y_train, y_test = train_test_split(X, y, test_size=0.2, random_state=10)\n",
    "\n",
    "print('Train set count:', len(X_train))\n",
    "print('Test set count:', len(X_test))\n",
    "print('Test samples:', y_test[:20])"
   ]
  },
  {
   "attachments": {},
   "cell_type": "markdown",
   "metadata": {},
   "source": [
    "## 일반적인 신경망 모형을 이용한 분류\n",
    "\n",
    "RNN의 효과와 비교하기 위해 로지스틱 회귀 모형을 구현, 시퀀스 정보 없이 예측 수행\n",
    "\n",
    "현재의 문서는 500개의 단어로 이루어져 있고 사전의 크기는 10,000이다.\n",
    "\n",
    "따라서 원핫 인코딩시 벡터의 크기는 10000이 되고 이를 임베딩을 통해 32로 압축 시킨다."
   ]
  },
  {
   "cell_type": "code",
   "execution_count": 40,
   "metadata": {},
   "outputs": [
    {
     "name": "stdout",
     "output_type": "stream",
     "text": [
      "Model: \"sequential_1\"\n",
      "_________________________________________________________________\n",
      " Layer (type)                Output Shape              Param #   \n",
      "=================================================================\n",
      " embedding_1 (Embedding)     (None, 500, 32)           32000     \n",
      "                                                                 \n",
      " flatten_1 (Flatten)         (None, 16000)             0         \n",
      "                                                                 \n",
      " dense_1 (Dense)             (None, 1)                 16001     \n",
      "                                                                 \n",
      "=================================================================\n",
      "Total params: 48,001\n",
      "Trainable params: 48,001\n",
      "Non-trainable params: 0\n",
      "_________________________________________________________________\n"
     ]
    }
   ],
   "source": [
    "from tensorflow.keras.models import Sequential\n",
    "from tensorflow.keras.layers import Flatten, Dense, Embedding\n",
    "\n",
    "# 순차적 모형\n",
    "model = Sequential([\n",
    "    Embedding(max_words, 32, input_length=maxlen),\n",
    "    Flatten(),\n",
    "    Dense(1, activation='sigmoid')\n",
    "])\n",
    "\n",
    "model.summary()"
   ]
  },
  {
   "cell_type": "code",
   "execution_count": 41,
   "metadata": {},
   "outputs": [
    {
     "name": "stdout",
     "output_type": "stream",
     "text": [
      "Epoch 1/10\n",
      "40/40 [==============================] - 1s 5ms/step - loss: 0.6910 - acc: 0.5234 - val_loss: 0.6943 - val_acc: 0.5219\n",
      "Epoch 2/10\n",
      "40/40 [==============================] - 0s 2ms/step - loss: 0.6183 - acc: 0.7461 - val_loss: 0.6755 - val_acc: 0.5531\n",
      "Epoch 3/10\n",
      "40/40 [==============================] - 0s 2ms/step - loss: 0.5238 - acc: 0.8891 - val_loss: 0.6421 - val_acc: 0.6594\n",
      "Epoch 4/10\n",
      "40/40 [==============================] - 0s 3ms/step - loss: 0.4074 - acc: 0.9656 - val_loss: 0.6078 - val_acc: 0.6906\n",
      "Epoch 5/10\n",
      "40/40 [==============================] - 0s 2ms/step - loss: 0.2958 - acc: 0.9836 - val_loss: 0.5802 - val_acc: 0.7031\n",
      "Epoch 6/10\n",
      "40/40 [==============================] - 0s 2ms/step - loss: 0.2048 - acc: 0.9922 - val_loss: 0.5715 - val_acc: 0.7094\n",
      "Epoch 7/10\n",
      "40/40 [==============================] - 0s 2ms/step - loss: 0.1362 - acc: 0.9953 - val_loss: 0.5567 - val_acc: 0.7312\n",
      "Epoch 8/10\n",
      "40/40 [==============================] - 0s 2ms/step - loss: 0.0849 - acc: 0.9992 - val_loss: 0.5576 - val_acc: 0.7281\n",
      "Epoch 9/10\n",
      "40/40 [==============================] - 0s 2ms/step - loss: 0.0514 - acc: 1.0000 - val_loss: 0.5644 - val_acc: 0.7094\n",
      "Epoch 10/10\n",
      "40/40 [==============================] - 0s 2ms/step - loss: 0.0293 - acc: 1.0000 - val_loss: 0.5786 - val_acc: 0.7000\n"
     ]
    }
   ],
   "source": [
    "model.compile(optimizer='rmsprop', loss='binary_crossentropy', metrics=['acc'])\n",
    "history = model.fit(X_train, y_train,\n",
    "                    epochs = 10,\n",
    "                    verbose=1,\n",
    "                    validation_split=0.2)"
   ]
  },
  {
   "cell_type": "code",
   "execution_count": 44,
   "metadata": {},
   "outputs": [
    {
     "data": {
      "image/png": "[encoded data removed]",
      "text/plain": [
       "<Figure size 432x288 with 1 Axes>"
      ]
     },
     "metadata": {
      "needs_background": "light"
     },
     "output_type": "display_data"
    }
   ],
   "source": [
    "import matplotlib.pyplot as plt\n",
    "\n",
    "def plot_results(history, metric):\n",
    "    plt.plot(history.history[metric], 'b', label=\"Training\" + metric)\n",
    "    plt.plot(history.history['val_'+metric], 'r--',  label='Validation ' + metric)\n",
    "    plt.title('Training and validation '+metric)\n",
    "    plt.xlabel('Epochs')\n",
    "    plt.ylabel(metric)\n",
    "    plt.legend()\n",
    "    plt.show()\n",
    "\n",
    "plot_results(history, 'acc')"
   ]
  },
  {
   "cell_type": "code",
   "execution_count": 45,
   "metadata": {},
   "outputs": [
    {
     "name": "stdout",
     "output_type": "stream",
     "text": [
      "13/13 [==============================] - 0s 2ms/step - loss: 0.5791 - acc: 0.7175\n",
      "#Test accuracy:0.717\n"
     ]
    }
   ],
   "source": [
    "score = model.evaluate(X_test, y_test)\n",
    "print(f'#Test accuracy:{score[1]:.3f}')"
   ]
  },
  {
   "attachments": {},
   "cell_type": "markdown",
   "metadata": {},
   "source": [
    "### 결과\n",
    "\n",
    "단어의 수 제한, 검증 데이터셋 분리, 단어 순서 데이터의 손실과 같은 이유로 성능이 저하 되었다."
   ]
  },
  {
   "attachments": {},
   "cell_type": "markdown",
   "metadata": {},
   "source": [
    "## RNN 기반 문서분류\n",
    "\n",
    "RNN을 이용할 땐 단어의 순서 정보를 활용할 수 있다.\n",
    "\n",
    "Flatten() 대신에 SimpleRNN() 레이어를 사용한다. "
   ]
  },
  {
   "cell_type": "code",
   "execution_count": 46,
   "metadata": {},
   "outputs": [
    {
     "name": "stdout",
     "output_type": "stream",
     "text": [
      "Model: \"sequential_2\"\n",
      "_________________________________________________________________\n",
      " Layer (type)                Output Shape              Param #   \n",
      "=================================================================\n",
      " embedding_2 (Embedding)     (None, None, 32)          32000     \n",
      "                                                                 \n",
      " simple_rnn (SimpleRNN)      (None, 32)                2080      \n",
      "                                                                 \n",
      " dense_2 (Dense)             (None, 32)                1056      \n",
      "                                                                 \n",
      " dense_3 (Dense)             (None, 1)                 33        \n",
      "                                                                 \n",
      "=================================================================\n",
      "Total params: 35,169\n",
      "Trainable params: 35,169\n",
      "Non-trainable params: 0\n",
      "_________________________________________________________________\n"
     ]
    },
    {
     "data": {
      "image/png": "[encoded data removed]",
      "text/plain": [
       "<Figure size 432x288 with 1 Axes>"
      ]
     },
     "metadata": {
      "needs_background": "light"
     },
     "output_type": "display_data"
    },
    {
     "name": "stdout",
     "output_type": "stream",
     "text": [
      "13/13 [==============================] - 0s 14ms/step - loss: 0.6945 - acc: 0.5275\n",
      "#Test accuracy:0.527\n"
     ]
    }
   ],
   "source": [
    "from tensorflow.keras.layers import SimpleRNN\n",
    "from tensorflow.keras.optimizers import Adam\n",
    "\n",
    "model = Sequential([\n",
    "    Embedding(max_words, 32),\n",
    "\n",
    "    SimpleRNN(32),\n",
    "    Dense(32, activation='relu'),\n",
    "    Dense(1, activation='sigmoid')\n",
    "])\n",
    "model.summary()\n",
    "\n",
    "adam = Adam(learning_rate=1e-4)\n",
    "model.compile(optimizer=adam, loss='binary_crossentropy', metrics=['acc'])\n",
    "history = model.fit(X_train, y_train,\n",
    "                    epochs=10,\n",
    "                    verbose=0,\n",
    "                    validation_split=0.2)\n",
    "plot_results(history, 'acc')\n",
    "\n",
    "score = model.evaluate(X_test, y_test)\n",
    "print(f'#Test accuracy:{score[1]:.3f}')"
   ]
  },
  {
   "attachments": {},
   "cell_type": "markdown",
   "metadata": {},
   "source": [
    "### 결과\n",
    "\n",
    "acc값이 0.527로 거의 분류가 안되고 있다.\n",
    "\n",
    "기울기 소실 문제 발생 -> 앞부분의 정보가 뒤로 갈수록 소실된다.\n",
    "\n",
    "단어를 예측할 때 앞의 몇개의 문장 혹은 하나의 문장만으로도 학습이 가능하다.\n",
    "\n",
    "하지만 많은 경우에 더 많은 문맥을 필요로 한다. 이는 RNN의 성능 저하를 불러 일으킨다."
   ]
  },
  {
   "attachments": {},
   "cell_type": "markdown",
   "metadata": {},
   "source": [
    "## LSTM"
   ]
  },
  {
   "cell_type": "code",
   "execution_count": 48,
   "metadata": {},
   "outputs": [
    {
     "name": "stdout",
     "output_type": "stream",
     "text": [
      "Model: \"sequential_4\"\n",
      "_________________________________________________________________\n",
      " Layer (type)                Output Shape              Param #   \n",
      "=================================================================\n",
      " embedding_4 (Embedding)     (None, None, 64)          64000     \n",
      "                                                                 \n",
      " bidirectional_1 (Bidirectio  (None, 128)              66048     \n",
      " nal)                                                            \n",
      "                                                                 \n",
      " dense_6 (Dense)             (None, 64)                8256      \n",
      "                                                                 \n",
      " dense_7 (Dense)             (None, 1)                 65        \n",
      "                                                                 \n",
      "=================================================================\n",
      "Total params: 138,369\n",
      "Trainable params: 138,369\n",
      "Non-trainable params: 0\n",
      "_________________________________________________________________\n"
     ]
    },
    {
     "data": {
      "image/png": "[encoded data removed]",
      "text/plain": [
       "<Figure size 432x288 with 1 Axes>"
      ]
     },
     "metadata": {
      "needs_background": "light"
     },
     "output_type": "display_data"
    },
    {
     "name": "stdout",
     "output_type": "stream",
     "text": [
      "13/13 [==============================] - 1s 46ms/step - loss: 0.5718 - acc: 0.7575\n",
      "#Test accuracy:0.757\n"
     ]
    }
   ],
   "source": [
    "from tensorflow.keras.layers import LSTM, Bidirectional\n",
    "\n",
    "model = Sequential([\n",
    "    Embedding(max_words, 64),\n",
    "    Bidirectional(LSTM(64)),\n",
    "    Dense(64, activation='relu'),\n",
    "    Dense(1, activation='sigmoid')\n",
    "])\n",
    "model.summary()\n",
    "\n",
    "model.compile(optimizer=adam, loss='binary_crossentropy', metrics=['acc'])\n",
    "\n",
    "history = model.fit(X_train, y_train,\n",
    "                    epochs=8,\n",
    "                    verbose=0,\n",
    "                    validation_split=0.2)\n",
    "plot_results(history, 'acc')\n",
    "\n",
    "score = model.evaluate(X_test, y_test)\n",
    "print(f'#Test accuracy:{score[1]:.3f}')"
   ]
  },
  {
   "cell_type": "code",
   "execution_count": null,
   "metadata": {},
   "outputs": [],
   "source": []
  }
 ],
 "metadata": {
  "kernelspec": {
   "display_name": "tf",
   "language": "python",
   "name": "python3"
  },
  "language_info": {
   "codemirror_mode": {
    "name": "ipython",
    "version": 3
   },
   "file_extension": ".py",
   "mimetype": "text/x-python",
   "name": "python",
   "nbconvert_exporter": "python",
   "pygments_lexer": "ipython3",
   "version": "3.10.4 | packaged by conda-forge | (main, Mar 24 2022, 17:43:32) [Clang 12.0.1 ]"
  },
  "orig_nbformat": 4,
  "vscode": {
   "interpreter": {
    "hash": "5cbfa331c34500466df6bcee3d13d6f1df6471fa5443ed47e9e61f565d6a8d51"
   }
  }
 },
 "nbformat": 4,
 "nbformat_minor": 2
}
